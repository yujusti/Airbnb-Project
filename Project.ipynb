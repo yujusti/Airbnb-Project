{
 "cells": [
  {
   "cell_type": "markdown",
   "id": "e958cf3e",
   "metadata": {},
   "source": [
    "# The Effects of Locational and Listing Characteristics on the Price of Airbnb Listings"
   ]
  },
  {
   "cell_type": "markdown",
   "id": "9e9ecc90",
   "metadata": {},
   "source": [
    "# Table of Contents\n",
    " \n",
    " - [Part 1: Introduction](#Part-1:-Introduction) \n",
    " - [Part 2: Past Projects](#Project-1) \n",
    "    - [Project 1](#Project-1)  \n",
    "        - [1.2 Data Cleaning/Loading](##Data-Cleaning/Loading)  \n",
    "        - [1.3 Summary Statistics Tables](##Summary-Statistics-Tables)  \n",
    "        - [1.4 Plots, Histograms, Figures](##Plots,-Histograms,-Figures) \n",
    "    - [Project 2](#Project-2)\n",
    "        - [2.1 The Message](##The-Message)\n",
    "        - [2.2 Maps and Interpetations](##Maps-and-Interpretations)  \n",
    "    - [Project 3](#Project-3)\n",
    "        - [3.1 Potential Data to Scrape](##Potential-Data-to-Scrape)\n",
    "        - [3.2 Potential Challenges](##Potential-Challenges)\n",
    "        - [3.3 Scraping Data from a Website](##Scraping-Data-from-a-Website)\n",
    "        - [3.4 Merging the Scraped Dataset](##Merging-the-Scraped-Dataset)\n",
    "        - [3.5 Visualizing the Scraped Dataset](##Visualizing-the-Scraped-Dataset)\n",
    "        - [3.6 Adding a New Dataset](##Adding-a-New-Dataset)\n",
    "        - [3.7 Conclusion](##Conclusion)\n",
    " - [Part 3](#Project-1)\n",
    "     - [OLS Regression](#Project-1)\n",
    "     - [Machine Learning](#Project-1)\n",
    " - [Part 4](#Project-1)\n",
    "     - [Conclusion](#Project-1)"
   ]
  },
  {
   "cell_type": "markdown",
   "id": "982ba533",
   "metadata": {},
   "source": [
    "# Part 1: Introduction"
   ]
  },
  {
   "cell_type": "markdown",
   "id": "22663562",
   "metadata": {},
   "source": [
    "The introduction of Airbnb to the housing market in 2007 was merely spectacular compared to what it has become in the present day. Airbnb helps alleviate the stress of finding housing when going on vacation or temporary visits to places and has since become a common thing used to find good deals on housing when going out. However, where there are many people trying to help alleviate the stress coming from finding temporary housing, there are people that are trying to profit from it. Instead of Airbnb being a place where people help one another find places to live while they are temporarily away, it has become a for-profit market. People are incentivized to maximize profits over helping out one another, by for example raising the minimum nights needed to spend at listings with higher prices.\n",
    "\n",
    "The main objective of this paper is to investigate the relationship between various attributes (such as geographic advantages and property features) associated with an Airbnb listing and its corresponding rental cost. For example, does the type of room, the minimum number of nights to stay, and the number of listings the host have an effect on an Airbnb rental price? What about the socioeconomic characteristics tied to an Airbnb's location, such as the neighbourhood crime and income levels? In analysing these relationships, we can learn more about the pricing strategies when it comes to listing a person's house on Airbnb, which can benefit both guests and hosts. For hosts, analyzing these characteristics can help them determine an appropriate rental price to charge for their property, while for guests, this paper can help them make informed decisions about what to look out for and which Airbnb listing to book.\n",
    "\n",
    "\\subsection{Literature Review}\n",
    "\\vspace{10pt}\n",
    "\\indent\n",
    "\n",
    "Airbnb has become a popular accommodation option for travellers around the world due to its affordable prices and unique experiences. As a result, numerous studies have been conducted to investigate the factors that can influence Airbnb rental prices.\n",
    "\n",
    "Location is one of the key determinants of Airbnb rental prices as Airbnb listings are commonly located in highly dense population sites such as urban centres within countries (Teh et al, 2020). On the other hand, properties located in less popular tourist destinations, like suburban areas tend to have lower prices. (Chica-Olmo et al, 2020) observed these effects with a hedonic spatial price model and found that walkability, noise and accessibility to urban centres are significant effects which determined the price of Airbnb apartments in Málaga (a municipality in Spain).\n",
    "\n",
    "Besides locational factors, various listing characteristics can also influence Airbnb rental prices. These include the number of bedrooms, bathrooms, and guests a property can accommodate, as well as amenities such as Wi-Fi, parking, and air conditioning. Studies have found that properties with more rooms, and amenities tend to have higher prices (Toader et al, 2021; Teh et al, 2020). \n",
    "\n",
    "Overall, the literature seems to suggest that Airbnb rental prices can be influenced by various factors, like location, listing characteristics like reviews and ratings, and also regulatory factors. This paper seeks to expand on these past studies by examining the complexities behind determining the rental price in large Cities like New York.\n",
    "\n",
    "DGOMONOV. (2024). [New York City Airbnb Open Data], [Version 3]. Retrieved [03/03/2023] from [https://www.kaggle.com/datasets/dgomonov/new-york-city-airbnb-open-data].\n",
    "\n",
    "\n",
    "Our key findings indicated that prices do infact vary when exposed to these exogenous factors, however the relationship between some of these variables and rental price may be biased with the functional form of the regression model being mispecified."
   ]
  },
  {
   "cell_type": "markdown",
   "id": "132055f6",
   "metadata": {},
   "source": [
    "## Data Cleaning/Loading"
   ]
  },
  {
   "cell_type": "markdown",
   "id": "a1584dd7",
   "metadata": {},
   "source": [
    "We first start by loading the packages needed to explore the dataset. The dataset is then loaded into the notebook so that we can conduct an examination of the variables in the dataset that we would like to use to answer the "
   ]
  },
  {
   "cell_type": "code",
   "execution_count": 384,
   "id": "b293f694",
   "metadata": {},
   "outputs": [],
   "source": [
    "# Import Libraries\n",
    "\n",
    "import matplotlib.colors as mplc\n",
    "import matplotlib.patches as patches\n",
    "import matplotlib.pyplot as plt\n",
    "import seaborn as sns\n",
    "import numpy as np\n",
    "import pandas as pd\n",
    "import statsmodels.formula.api as sm\n",
    "import math\n",
    "from shapely.geometry import Point\n",
    "import geopandas as gpd\n",
    "import folium\n",
    "from folium.features import DivIcon\n",
    "from folium.plugins import MarkerCluster\n",
    "import warnings\n",
    "import requests\n",
    "from bs4 import BeautifulSoup\n",
    "import statsmodels.api as sm\n",
    "from statsmodels.iolib.summary2 import summary_col\n",
    "from linearmodels.iv import IV2SLS\n",
    "from stargazer.stargazer import Stargazer, LineLocation\n",
    "from IPython.core.display import HTML\n",
    "from sklearn import (\n",
    "    linear_model, metrics, pipeline, model_selection)\n",
    "warnings.filterwarnings('ignore')"
   ]
  },
  {
   "cell_type": "code",
   "execution_count": 194,
   "id": "d1b24483",
   "metadata": {},
   "outputs": [],
   "source": [
    "# Read in the Data and Save as a DataFrame under a variable \"df\" which we can call.\n",
    "\n",
    "data = pd.read_csv(\"C:/Users/justi/Desktop/Uni/Year 3/semester 2/Eco 225/Data/AB_NYC_2019.csv\")\n",
    "raw_df = pd.DataFrame(data)"
   ]
  },
  {
   "cell_type": "markdown",
   "id": "c2b24fa3",
   "metadata": {},
   "source": [
    "Now that we have loaded the dataset into the notebook, we should look at which variables we can use to answer our question."
   ]
  },
  {
   "cell_type": "code",
   "execution_count": 195,
   "id": "d5231e25",
   "metadata": {
    "scrolled": true
   },
   "outputs": [
    {
     "data": {
      "text/html": [
       "<div>\n",
       "<style scoped>\n",
       "    .dataframe tbody tr th:only-of-type {\n",
       "        vertical-align: middle;\n",
       "    }\n",
       "\n",
       "    .dataframe tbody tr th {\n",
       "        vertical-align: top;\n",
       "    }\n",
       "\n",
       "    .dataframe thead th {\n",
       "        text-align: right;\n",
       "    }\n",
       "</style>\n",
       "<table border=\"1\" class=\"dataframe\">\n",
       "  <thead>\n",
       "    <tr style=\"text-align: right;\">\n",
       "      <th></th>\n",
       "      <th>Variable Names</th>\n",
       "      <th>Type</th>\n",
       "    </tr>\n",
       "  </thead>\n",
       "  <tbody>\n",
       "    <tr>\n",
       "      <th>0</th>\n",
       "      <td>id</td>\n",
       "      <td>int64</td>\n",
       "    </tr>\n",
       "    <tr>\n",
       "      <th>1</th>\n",
       "      <td>name</td>\n",
       "      <td>object</td>\n",
       "    </tr>\n",
       "    <tr>\n",
       "      <th>2</th>\n",
       "      <td>host_id</td>\n",
       "      <td>int64</td>\n",
       "    </tr>\n",
       "    <tr>\n",
       "      <th>3</th>\n",
       "      <td>host_name</td>\n",
       "      <td>object</td>\n",
       "    </tr>\n",
       "    <tr>\n",
       "      <th>4</th>\n",
       "      <td>neighbourhood_group</td>\n",
       "      <td>object</td>\n",
       "    </tr>\n",
       "    <tr>\n",
       "      <th>5</th>\n",
       "      <td>neighbourhood</td>\n",
       "      <td>object</td>\n",
       "    </tr>\n",
       "    <tr>\n",
       "      <th>6</th>\n",
       "      <td>latitude</td>\n",
       "      <td>float64</td>\n",
       "    </tr>\n",
       "    <tr>\n",
       "      <th>7</th>\n",
       "      <td>longitude</td>\n",
       "      <td>float64</td>\n",
       "    </tr>\n",
       "    <tr>\n",
       "      <th>8</th>\n",
       "      <td>room_type</td>\n",
       "      <td>object</td>\n",
       "    </tr>\n",
       "    <tr>\n",
       "      <th>9</th>\n",
       "      <td>price</td>\n",
       "      <td>int64</td>\n",
       "    </tr>\n",
       "    <tr>\n",
       "      <th>10</th>\n",
       "      <td>minimum_nights</td>\n",
       "      <td>int64</td>\n",
       "    </tr>\n",
       "    <tr>\n",
       "      <th>11</th>\n",
       "      <td>number_of_reviews</td>\n",
       "      <td>int64</td>\n",
       "    </tr>\n",
       "    <tr>\n",
       "      <th>12</th>\n",
       "      <td>last_review</td>\n",
       "      <td>object</td>\n",
       "    </tr>\n",
       "    <tr>\n",
       "      <th>13</th>\n",
       "      <td>reviews_per_month</td>\n",
       "      <td>float64</td>\n",
       "    </tr>\n",
       "    <tr>\n",
       "      <th>14</th>\n",
       "      <td>calculated_host_listings_count</td>\n",
       "      <td>int64</td>\n",
       "    </tr>\n",
       "    <tr>\n",
       "      <th>15</th>\n",
       "      <td>availability_365</td>\n",
       "      <td>int64</td>\n",
       "    </tr>\n",
       "  </tbody>\n",
       "</table>\n",
       "</div>"
      ],
      "text/plain": [
       "                    Variable Names     Type\n",
       "0                               id    int64\n",
       "1                             name   object\n",
       "2                          host_id    int64\n",
       "3                        host_name   object\n",
       "4              neighbourhood_group   object\n",
       "5                    neighbourhood   object\n",
       "6                         latitude  float64\n",
       "7                        longitude  float64\n",
       "8                        room_type   object\n",
       "9                            price    int64\n",
       "10                  minimum_nights    int64\n",
       "11               number_of_reviews    int64\n",
       "12                     last_review   object\n",
       "13               reviews_per_month  float64\n",
       "14  calculated_host_listings_count    int64\n",
       "15                availability_365    int64"
      ]
     },
     "execution_count": 195,
     "metadata": {},
     "output_type": "execute_result"
    }
   ],
   "source": [
    "# Create a Table with the Variables Names in the Data Set\n",
    "\n",
    "pd.DataFrame({\"Variable Names\": raw_df.dtypes.index, \"Type\": raw_df.dtypes.values})"
   ]
  },
  {
   "cell_type": "markdown",
   "id": "046fdd77",
   "metadata": {},
   "source": [
    "From the table above, in answering the research question we would only need the variables price, neighbourhood_group, neighbourhood, latitude, longitude, room_type, minimum_nights, calculated_host_listings_count. We can also get the number of observations in the dataset shown below."
   ]
  },
  {
   "cell_type": "code",
   "execution_count": 196,
   "id": "e245e9bb",
   "metadata": {},
   "outputs": [
    {
     "data": {
      "text/plain": [
       "48895"
      ]
     },
     "execution_count": 196,
     "metadata": {},
     "output_type": "execute_result"
    }
   ],
   "source": [
    "raw_df.shape[0] # returns n number of observations"
   ]
  },
  {
   "cell_type": "markdown",
   "id": "3263de88",
   "metadata": {},
   "source": [
    "We can see that as of right now we have 48895 observations in the dataset, the value may drop after cleaning the dataset. Using this we can now construct some summary statistics to determine if there are any problematic observations in the data."
   ]
  },
  {
   "cell_type": "code",
   "execution_count": 197,
   "id": "fdca126f",
   "metadata": {},
   "outputs": [
    {
     "data": {
      "text/html": [
       "<div>\n",
       "<style scoped>\n",
       "    .dataframe tbody tr th:only-of-type {\n",
       "        vertical-align: middle;\n",
       "    }\n",
       "\n",
       "    .dataframe tbody tr th {\n",
       "        vertical-align: top;\n",
       "    }\n",
       "\n",
       "    .dataframe thead th {\n",
       "        text-align: right;\n",
       "    }\n",
       "</style>\n",
       "<table border=\"1\" class=\"dataframe\">\n",
       "  <thead>\n",
       "    <tr style=\"text-align: right;\">\n",
       "      <th></th>\n",
       "      <th>Price</th>\n",
       "      <th>Latitude</th>\n",
       "      <th>Longitude</th>\n",
       "      <th>Minimum Nights</th>\n",
       "      <th>Host Listings</th>\n",
       "    </tr>\n",
       "  </thead>\n",
       "  <tbody>\n",
       "    <tr>\n",
       "      <th>count</th>\n",
       "      <td>48895.00</td>\n",
       "      <td>48895.00</td>\n",
       "      <td>48895.00</td>\n",
       "      <td>48895.00</td>\n",
       "      <td>48895.00</td>\n",
       "    </tr>\n",
       "    <tr>\n",
       "      <th>mean</th>\n",
       "      <td>152.72</td>\n",
       "      <td>40.73</td>\n",
       "      <td>-73.95</td>\n",
       "      <td>7.03</td>\n",
       "      <td>7.14</td>\n",
       "    </tr>\n",
       "    <tr>\n",
       "      <th>std</th>\n",
       "      <td>240.15</td>\n",
       "      <td>0.05</td>\n",
       "      <td>0.05</td>\n",
       "      <td>20.51</td>\n",
       "      <td>32.95</td>\n",
       "    </tr>\n",
       "    <tr>\n",
       "      <th>min</th>\n",
       "      <td>0.00</td>\n",
       "      <td>40.50</td>\n",
       "      <td>-74.24</td>\n",
       "      <td>1.00</td>\n",
       "      <td>1.00</td>\n",
       "    </tr>\n",
       "    <tr>\n",
       "      <th>25%</th>\n",
       "      <td>69.00</td>\n",
       "      <td>40.69</td>\n",
       "      <td>-73.98</td>\n",
       "      <td>1.00</td>\n",
       "      <td>1.00</td>\n",
       "    </tr>\n",
       "    <tr>\n",
       "      <th>50%</th>\n",
       "      <td>106.00</td>\n",
       "      <td>40.72</td>\n",
       "      <td>-73.96</td>\n",
       "      <td>3.00</td>\n",
       "      <td>1.00</td>\n",
       "    </tr>\n",
       "    <tr>\n",
       "      <th>75%</th>\n",
       "      <td>175.00</td>\n",
       "      <td>40.76</td>\n",
       "      <td>-73.94</td>\n",
       "      <td>5.00</td>\n",
       "      <td>2.00</td>\n",
       "    </tr>\n",
       "    <tr>\n",
       "      <th>max</th>\n",
       "      <td>10000.00</td>\n",
       "      <td>40.91</td>\n",
       "      <td>-73.71</td>\n",
       "      <td>1250.00</td>\n",
       "      <td>327.00</td>\n",
       "    </tr>\n",
       "  </tbody>\n",
       "</table>\n",
       "</div>"
      ],
      "text/plain": [
       "          Price  Latitude  Longitude  Minimum Nights  Host Listings\n",
       "count  48895.00  48895.00   48895.00        48895.00       48895.00\n",
       "mean     152.72     40.73     -73.95            7.03           7.14\n",
       "std      240.15      0.05       0.05           20.51          32.95\n",
       "min        0.00     40.50     -74.24            1.00           1.00\n",
       "25%       69.00     40.69     -73.98            1.00           1.00\n",
       "50%      106.00     40.72     -73.96            3.00           1.00\n",
       "75%      175.00     40.76     -73.94            5.00           2.00\n",
       "max    10000.00     40.91     -73.71         1250.00         327.00"
      ]
     },
     "execution_count": 197,
     "metadata": {},
     "output_type": "execute_result"
    }
   ],
   "source": [
    "numerical_variables = [\"price\", \"latitude\", \"longitude\", \n",
    "                       \"minimum_nights\", \"calculated_host_listings_count\"]\n",
    "rename_ = {\"price\" : \"Price\", \"latitude\" : \"Latitude\", \n",
    "       \"longitude\" : \"Longitude\", \"number_of_reviews\" : \"Number of Reviews\",\n",
    "       \"minimum_nights\": \"Minimum Nights\", \n",
    "       \"calculated_host_listings_count\" : \"Host Listings\"}\n",
    "raw_df[numerical_variables].describe().rename(columns = rename_).round(2)"
   ]
  },
  {
   "cell_type": "markdown",
   "id": "0bd3c369",
   "metadata": {},
   "source": [
    "In the table above, we can see that each colunm selected does not contain any missing values. No missing values means that we would not need to use the methods of deletion and imputation to solve the missing value problem. \n",
    "\n",
    "However, there are some potentially proplematic observations in the raw data gathered from Kaggle. One of these issues would be the variable \"minimum_nights\", where there seems to be some observations where guests have to stay for a minimun of 1250 days (3 and 1/2 years). We consider these points to be outliers which can be due to measurement errors/data entry or processing errors as no one could be possily be staying for that long. Since we do not know the actual intentions of the host's we should restrict the minimun nights stayed to be at most 365 days (1 year) and remove the observations which are greater than 365 days. \n",
    "\n",
    "We also see that the minimun price of renting for one day is 0 dollars, which can be human error in listing the home at that price or just a host being very kind, either way these observations would also have to be removed as we cannot determine the actual observation. Following that, there also are some observations of rent prices being 10000 dollars which is well above the standard deviation range of 240.15 dollars. These extreme outliers would have to be removed as there are not enough observations with such high figures to base an economical analysis. Thus we restrict the daily rental price of AirBnB listings to be below 1000 dollars and remove the observations greater than that."
   ]
  },
  {
   "cell_type": "code",
   "execution_count": 198,
   "id": "881e1048",
   "metadata": {},
   "outputs": [
    {
     "data": {
      "text/html": [
       "<div>\n",
       "<style scoped>\n",
       "    .dataframe tbody tr th:only-of-type {\n",
       "        vertical-align: middle;\n",
       "    }\n",
       "\n",
       "    .dataframe tbody tr th {\n",
       "        vertical-align: top;\n",
       "    }\n",
       "\n",
       "    .dataframe thead th {\n",
       "        text-align: right;\n",
       "    }\n",
       "</style>\n",
       "<table border=\"1\" class=\"dataframe\">\n",
       "  <thead>\n",
       "    <tr style=\"text-align: right;\">\n",
       "      <th></th>\n",
       "      <th>Neighbourhood Group</th>\n",
       "      <th>Neighbourhood</th>\n",
       "      <th>Room Type</th>\n",
       "    </tr>\n",
       "  </thead>\n",
       "  <tbody>\n",
       "    <tr>\n",
       "      <th>count</th>\n",
       "      <td>48895</td>\n",
       "      <td>48895</td>\n",
       "      <td>48895</td>\n",
       "    </tr>\n",
       "    <tr>\n",
       "      <th>unique</th>\n",
       "      <td>5</td>\n",
       "      <td>221</td>\n",
       "      <td>3</td>\n",
       "    </tr>\n",
       "    <tr>\n",
       "      <th>top</th>\n",
       "      <td>Manhattan</td>\n",
       "      <td>Williamsburg</td>\n",
       "      <td>Entire home/apt</td>\n",
       "    </tr>\n",
       "    <tr>\n",
       "      <th>freq</th>\n",
       "      <td>21661</td>\n",
       "      <td>3920</td>\n",
       "      <td>25409</td>\n",
       "    </tr>\n",
       "  </tbody>\n",
       "</table>\n",
       "</div>"
      ],
      "text/plain": [
       "       Neighbourhood Group Neighbourhood        Room Type\n",
       "count                48895         48895            48895\n",
       "unique                   5           221                3\n",
       "top              Manhattan  Williamsburg  Entire home/apt\n",
       "freq                 21661          3920            25409"
      ]
     },
     "execution_count": 198,
     "metadata": {},
     "output_type": "execute_result"
    }
   ],
   "source": [
    "string_variables = [\"neighbourhood_group\", \"neighbourhood\", \"room_type\"]\n",
    "rename_ = {\"neighbourhood_group\" : \"Neighbourhood Group\", \"neighbourhood\" : \"Neighbourhood\", \n",
    "       \"room_type\" : \"Room Type\"}\n",
    "raw_df[string_variables].rename(columns = rename_).describe()"
   ]
  },
  {
   "cell_type": "markdown",
   "id": "da9269a4",
   "metadata": {},
   "source": [
    "The table above summarises the selected categorical variables in the dataset. We can see that the number of observations are the same for each categorical variable and the numerical variables. This means that there are no missing values in the dataset which we would need to imput or remove. We can also see that there are 221 unique neighbourhoods found in the data set with the most observations coming from the neighbourhood Williamsburg. Also we see that Manhattan is the neighbourhood group which contains the most AirBnB listings and the most common listing is where the host lists the entire home/apartment out. We do not observe any problematic observations in the categorical variables, so we move onto the data filtering process."
   ]
  },
  {
   "cell_type": "code",
   "execution_count": 199,
   "id": "a9ceb801",
   "metadata": {},
   "outputs": [],
   "source": [
    "variables = [\"price\", \"latitude\", \"longitude\", \n",
    "            \"minimum_nights\", \"calculated_host_listings_count\",\n",
    "            \"neighbourhood_group\", \"neighbourhood\", \"room_type\"]\n",
    "\n",
    "filt = (raw_df[\"minimum_nights\"] <= 365)\n",
    "clean_df = raw_df[filt][variables]\n",
    "\n",
    "filt = (clean_df[\"price\"] > 0)\n",
    "clean_df = clean_df[filt][variables]\n",
    "\n",
    "filt = (clean_df[\"price\"] <= 1000)\n",
    "clean_df = clean_df[filt][variables]"
   ]
  },
  {
   "cell_type": "markdown",
   "id": "9f8fb7db",
   "metadata": {},
   "source": [
    "We are interested in how the distance from being near to a centre of a city can affect the price of the rental. Thus we explore this by using the Harvsine function (which determines the circle distance between two points on a sphere given their longitudes and latitudes) to generate an estimated distance between two pairs of longitudinal and latitudinal points. One of the pairs would be the coordinates of an AirBnB listing and the other would be the coordinates of Times Square in NYC."
   ]
  },
  {
   "cell_type": "code",
   "execution_count": 200,
   "id": "1367a255",
   "metadata": {},
   "outputs": [],
   "source": [
    "def calculate_distance(lat1: float, lon1: float,\n",
    "                       lat2: float, lon2: float) -> float:\n",
    "    \"\"\"Returns the distance (km) between the two locations defined by(lat1, lon1) \n",
    "    and (lat2, lon2), rounded to the nearest meter.\n",
    "    \"\"\"\n",
    "    # This function uses the haversine function to find the distance between two locations.\n",
    "    # convert decimal degrees to radians\n",
    "    # this is only an approximation not an actual measurement in reality, the earth is \n",
    "    # not completely spherical\n",
    "    lon1, lat1, lon2, lat2 = (math.radians(lon1), math.radians(lat1),\n",
    "                              math.radians(lon2), math.radians(lat2))\n",
    "\n",
    "    # Calculate the distance using the haversine formula t\n",
    "    lon_diff = lon2 - lon1\n",
    "    lat_diff = lat2 - lat1\n",
    "    a = (math.sin(lat_diff / 2) ** 2\n",
    "         + math.cos(lat1) * math.cos(lat2) * math.sin(lon_diff / 2) ** 2)\n",
    "    c = 2 * math.asin(math.sqrt(a))\n",
    "\n",
    "    return round(c * 6371, 3) # 6371 is the Earth's Radius"
   ]
  },
  {
   "cell_type": "markdown",
   "id": "91cac0b6",
   "metadata": {},
   "source": [
    "We then apply this function onto out dataset to generate the distances of each listing from Times Square in Manhatten shown below."
   ]
  },
  {
   "cell_type": "code",
   "execution_count": 201,
   "id": "d1f4fb0e",
   "metadata": {},
   "outputs": [],
   "source": [
    "Dist_to_Square = []\n",
    "lat = clean_df[\"latitude\"].to_list()\n",
    "lon = clean_df[\"longitude\"].to_list()\n",
    "gps = zip(lat,lon)\n",
    "for i in list(gps):\n",
    "    dis = calculate_distance(i[0], i[1], 40.758896, -73.985130)\n",
    "    Dist_to_Square.append(dis)\n",
    "clean_df[\"Distance to Times Square\"] = Dist_to_Square"
   ]
  },
  {
   "cell_type": "markdown",
   "id": "c2035a0f",
   "metadata": {},
   "source": [
    "We are interested in wondering if the type of listing can affect the price, this observation is given in the \"room_type\" variable in the dataset. Since we would like to run a regression with a categorical variable, we would need to convert them into a dummy variable before a regression analysis can be done, this is shown in the process below: "
   ]
  },
  {
   "cell_type": "code",
   "execution_count": 202,
   "id": "b557307c",
   "metadata": {},
   "outputs": [],
   "source": [
    "clean_df[\"entire\"] = np.where(clean_df[\"room_type\"] == \"Entire home/apt\", 1, 0)\n",
    "clean_df[\"private\"] = np.where(clean_df[\"room_type\"] == \"Private room\", 1, 0)\n",
    "clean_df[\"shared\"] = np.where(clean_df[\"room_type\"] == \"Shared room\", 1, 0)"
   ]
  },
  {
   "cell_type": "markdown",
   "id": "de25b947",
   "metadata": {},
   "source": [
    "Since we have finished cleaning the data, we can now start constructing statistical summaries on both our predictors and dependent variables. We start by selecting the variables that we are interested in after the cleaning has been done."
   ]
  },
  {
   "cell_type": "code",
   "execution_count": 203,
   "id": "660ad75a",
   "metadata": {},
   "outputs": [],
   "source": [
    "variables = [\"price\", \"minimum_nights\", \"Distance to Times Square\", \n",
    "             \"calculated_host_listings_count\", \"entire\", \"private\", \n",
    "             \"shared\", \"neighbourhood_group\", \"neighbourhood\", \"room_type\", \"latitude\", \"longitude\"]\n",
    "\n",
    "final_df = clean_df.copy()[filt][variables]"
   ]
  },
  {
   "cell_type": "markdown",
   "id": "e137071d",
   "metadata": {},
   "source": [
    "## Summary Statistics Tables"
   ]
  },
  {
   "cell_type": "code",
   "execution_count": 204,
   "id": "c53e646c",
   "metadata": {},
   "outputs": [
    {
     "data": {
      "text/html": [
       "<div>\n",
       "<style scoped>\n",
       "    .dataframe tbody tr th:only-of-type {\n",
       "        vertical-align: middle;\n",
       "    }\n",
       "\n",
       "    .dataframe tbody tr th {\n",
       "        vertical-align: top;\n",
       "    }\n",
       "\n",
       "    .dataframe thead th {\n",
       "        text-align: right;\n",
       "    }\n",
       "</style>\n",
       "<table border=\"1\" class=\"dataframe\">\n",
       "  <thead>\n",
       "    <tr style=\"text-align: right;\">\n",
       "      <th></th>\n",
       "      <th>Price</th>\n",
       "      <th>Minimum Nights</th>\n",
       "      <th>Distance to Times Square</th>\n",
       "      <th>Host Listings</th>\n",
       "    </tr>\n",
       "  </thead>\n",
       "  <tbody>\n",
       "    <tr>\n",
       "      <th>count</th>\n",
       "      <td>48631.000</td>\n",
       "      <td>48631.000</td>\n",
       "      <td>48631.000</td>\n",
       "      <td>48631.000</td>\n",
       "    </tr>\n",
       "    <tr>\n",
       "      <th>mean</th>\n",
       "      <td>141.313</td>\n",
       "      <td>6.783</td>\n",
       "      <td>7.146</td>\n",
       "      <td>7.164</td>\n",
       "    </tr>\n",
       "    <tr>\n",
       "      <th>std</th>\n",
       "      <td>116.737</td>\n",
       "      <td>16.123</td>\n",
       "      <td>4.444</td>\n",
       "      <td>33.031</td>\n",
       "    </tr>\n",
       "    <tr>\n",
       "      <th>min</th>\n",
       "      <td>10.000</td>\n",
       "      <td>1.000</td>\n",
       "      <td>0.032</td>\n",
       "      <td>1.000</td>\n",
       "    </tr>\n",
       "    <tr>\n",
       "      <th>25%</th>\n",
       "      <td>69.000</td>\n",
       "      <td>1.000</td>\n",
       "      <td>3.874</td>\n",
       "      <td>1.000</td>\n",
       "    </tr>\n",
       "    <tr>\n",
       "      <th>50%</th>\n",
       "      <td>105.000</td>\n",
       "      <td>3.000</td>\n",
       "      <td>6.422</td>\n",
       "      <td>1.000</td>\n",
       "    </tr>\n",
       "    <tr>\n",
       "      <th>75%</th>\n",
       "      <td>175.000</td>\n",
       "      <td>5.000</td>\n",
       "      <td>9.473</td>\n",
       "      <td>2.000</td>\n",
       "    </tr>\n",
       "    <tr>\n",
       "      <th>max</th>\n",
       "      <td>1000.000</td>\n",
       "      <td>365.000</td>\n",
       "      <td>35.997</td>\n",
       "      <td>327.000</td>\n",
       "    </tr>\n",
       "  </tbody>\n",
       "</table>\n",
       "</div>"
      ],
      "text/plain": [
       "           Price  Minimum Nights  Distance to Times Square  Host Listings\n",
       "count  48631.000       48631.000                 48631.000      48631.000\n",
       "mean     141.313           6.783                     7.146          7.164\n",
       "std      116.737          16.123                     4.444         33.031\n",
       "min       10.000           1.000                     0.032          1.000\n",
       "25%       69.000           1.000                     3.874          1.000\n",
       "50%      105.000           3.000                     6.422          1.000\n",
       "75%      175.000           5.000                     9.473          2.000\n",
       "max     1000.000         365.000                    35.997        327.000"
      ]
     },
     "execution_count": 204,
     "metadata": {},
     "output_type": "execute_result"
    }
   ],
   "source": [
    "numerical_variables = final_df.select_dtypes([\"number\"]).columns\n",
    "\n",
    "rename_ = {\"price\" : \"Price\", \"minimum_nights\": \"Minimum Nights\", \n",
    "           \"calculated_host_listings_count\" : \"Host Listings\"}\n",
    "\n",
    "table = final_df[numerical_variables].iloc[:, [0,1,2,3]]\n",
    "table.rename(columns = rename_).describe().round(3)"
   ]
  },
  {
   "cell_type": "markdown",
   "id": "370cb24e",
   "metadata": {},
   "source": [
    "We can see that the number of observations have went down after the cleaning process, however, all the variables seem to have the same number of observations. In the table summary above we can see that for our numerical predictor variables, the average price per rental on AirBnB is 141.313 dollars. The maximum value of a listing price has been reduced to 1000 dollars and the minimum nights have also been reduced to observations below 365 days. We can see that on average listings seem to be 7 kilometers away from Times Square. Considering that a flight from Brooklyn to The Bronx covers a distance of 32 kilometers, we have reason to believe that the majority of the listings are found in the city of Manhatten."
   ]
  },
  {
   "cell_type": "code",
   "execution_count": 205,
   "id": "5589738a",
   "metadata": {},
   "outputs": [
    {
     "data": {
      "text/html": [
       "<div>\n",
       "<style scoped>\n",
       "    .dataframe tbody tr th:only-of-type {\n",
       "        vertical-align: middle;\n",
       "    }\n",
       "\n",
       "    .dataframe tbody tr th {\n",
       "        vertical-align: top;\n",
       "    }\n",
       "\n",
       "    .dataframe thead th {\n",
       "        text-align: right;\n",
       "    }\n",
       "</style>\n",
       "<table border=\"1\" class=\"dataframe\">\n",
       "  <thead>\n",
       "    <tr style=\"text-align: right;\">\n",
       "      <th></th>\n",
       "      <th>Entire</th>\n",
       "      <th>Private</th>\n",
       "      <th>Shared</th>\n",
       "      <th>Total</th>\n",
       "    </tr>\n",
       "    <tr>\n",
       "      <th></th>\n",
       "      <th></th>\n",
       "      <th></th>\n",
       "      <th></th>\n",
       "      <th></th>\n",
       "    </tr>\n",
       "  </thead>\n",
       "  <tbody>\n",
       "    <tr>\n",
       "      <th>Observations</th>\n",
       "      <td>25207</td>\n",
       "      <td>22269</td>\n",
       "      <td>1155</td>\n",
       "      <td>48631</td>\n",
       "    </tr>\n",
       "  </tbody>\n",
       "</table>\n",
       "</div>"
      ],
      "text/plain": [
       "              Entire  Private  Shared  Total\n",
       "                                            \n",
       "Observations   25207    22269    1155  48631"
      ]
     },
     "execution_count": 205,
     "metadata": {},
     "output_type": "execute_result"
    }
   ],
   "source": [
    "entire_obs = sum(final_df[\"entire\"] == 1)\n",
    "private_obs = sum(final_df[\"private\"] == 1)\n",
    "shared_obs = sum(final_df[\"shared\"] == 1)\n",
    "tab = pd.DataFrame({\" \" : [\"Observations\"], \n",
    "                    \"Entire\" : [entire_obs], \n",
    "                    \"Private\" : [private_obs], \n",
    "                    \"Shared\" : [shared_obs],\n",
    "                   \"Total\" : [final_df[\"entire\"].count()]})\n",
    "tab.set_index(\" \")"
   ]
  },
  {
   "cell_type": "markdown",
   "id": "48c1d768",
   "metadata": {},
   "source": [
    "From the sumamry table from above we can see that there are a total of 25207 listings of entire homes/apartments, 22269 private rooms and 1155 shared rooms on AirBnB. The total of these amounts is equal to the number of observations seen the in the dataset which helps in the case of no missing values."
   ]
  },
  {
   "cell_type": "code",
   "execution_count": 206,
   "id": "681515fd",
   "metadata": {},
   "outputs": [
    {
     "data": {
      "text/html": [
       "<div>\n",
       "<style scoped>\n",
       "    .dataframe tbody tr th:only-of-type {\n",
       "        vertical-align: middle;\n",
       "    }\n",
       "\n",
       "    .dataframe tbody tr th {\n",
       "        vertical-align: top;\n",
       "    }\n",
       "\n",
       "    .dataframe thead th {\n",
       "        text-align: right;\n",
       "    }\n",
       "</style>\n",
       "<table border=\"1\" class=\"dataframe\">\n",
       "  <thead>\n",
       "    <tr style=\"text-align: right;\">\n",
       "      <th></th>\n",
       "      <th>Neighbourhood Group</th>\n",
       "      <th>Neighbourhood</th>\n",
       "      <th>Room Type</th>\n",
       "    </tr>\n",
       "  </thead>\n",
       "  <tbody>\n",
       "    <tr>\n",
       "      <th>count</th>\n",
       "      <td>48631</td>\n",
       "      <td>48631</td>\n",
       "      <td>48631</td>\n",
       "    </tr>\n",
       "    <tr>\n",
       "      <th>unique</th>\n",
       "      <td>5</td>\n",
       "      <td>221</td>\n",
       "      <td>3</td>\n",
       "    </tr>\n",
       "    <tr>\n",
       "      <th>top</th>\n",
       "      <td>Manhattan</td>\n",
       "      <td>Williamsburg</td>\n",
       "      <td>Entire home/apt</td>\n",
       "    </tr>\n",
       "    <tr>\n",
       "      <th>freq</th>\n",
       "      <td>21482</td>\n",
       "      <td>3908</td>\n",
       "      <td>25207</td>\n",
       "    </tr>\n",
       "  </tbody>\n",
       "</table>\n",
       "</div>"
      ],
      "text/plain": [
       "       Neighbourhood Group Neighbourhood        Room Type\n",
       "count                48631         48631            48631\n",
       "unique                   5           221                3\n",
       "top              Manhattan  Williamsburg  Entire home/apt\n",
       "freq                 21482          3908            25207"
      ]
     },
     "execution_count": 206,
     "metadata": {},
     "output_type": "execute_result"
    }
   ],
   "source": [
    "categorical_variables = final_df.select_dtypes([\"object\"]).columns\n",
    "\n",
    "rename_ = {\"neighbourhood_group\" : \"Neighbourhood Group\", \"neighbourhood\" : \"Neighbourhood\", \n",
    "       \"room_type\" : \"Room Type\"}\n",
    "final_df[categorical_variables].rename(columns = rename_).describe()"
   ]
  },
  {
   "cell_type": "markdown",
   "id": "ef5fb0ad",
   "metadata": {},
   "source": [
    "We can see that the categorical summary is relatively unchanged with the same number of unique variables in the each variable (Neighbourhood Group, Neighbourhood and Room Type). The only thing that has changed since the cleaning process is the number of observations has been reduced."
   ]
  },
  {
   "cell_type": "markdown",
   "id": "ae69e0c5",
   "metadata": {},
   "source": [
    "## Plots, Histograms, Figures"
   ]
  },
  {
   "cell_type": "code",
   "execution_count": 207,
   "id": "ee279641",
   "metadata": {},
   "outputs": [],
   "source": [
    "plt.rcParams.update({'font.size': 10})"
   ]
  },
  {
   "cell_type": "code",
   "execution_count": 208,
   "id": "10e10013",
   "metadata": {},
   "outputs": [
    {
     "data": {
      "image/png": "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\n",
      "text/plain": [
       "<Figure size 800x550 with 1 Axes>"
      ]
     },
     "metadata": {},
     "output_type": "display_data"
    }
   ],
   "source": [
    "fig, ax = plt.subplots()\n",
    "\n",
    "final_df[\"price\"].plot(kind = \"hist\", \n",
    "                       y = \"frequency\", color = \"darkslategray\", \n",
    "                       edgecolor = \"black\", bins = 40, ax = ax)\n",
    "\n",
    "for side in [\"right\", \"top\"]:\n",
    "    ax.spines[side].set_visible(False)\n",
    "ax.set_xlabel(\"Price of Renting an AirBnB per Day ($)\")\n",
    "plt.title(\"Histogram to Show the Spread of AirBnB Pricing\", fontsize = 16);"
   ]
  },
  {
   "cell_type": "markdown",
   "id": "facdc423",
   "metadata": {},
   "source": [
    "From the histogram above we can see that even after the cleaning process, the price of renting a AirBnB per day is still skewed to the right with most of the values lying at the price of 150 dollars. This can have an effect on our regression model since the normality does not seem to hold within the data. Have we not removed the observations greater than 1000, it would have skewed the graph even more to the right and would have made it harder to interpret. "
   ]
  },
  {
   "cell_type": "code",
   "execution_count": 209,
   "id": "0b319212",
   "metadata": {},
   "outputs": [
    {
     "data": {
      "image/png": "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\n",
      "text/plain": [
       "<Figure size 800x550 with 1 Axes>"
      ]
     },
     "metadata": {},
     "output_type": "display_data"
    }
   ],
   "source": [
    "barc = final_df.groupby(\"neighbourhood_group\")[\"price\"].mean().sort_values(ascending = False)\n",
    "\n",
    "fig, ax = plt.subplots()\n",
    "\n",
    "for side in [\"right\", \"top\"]:\n",
    "    ax.spines[side].set_visible(False)\n",
    "\n",
    "barc.plot(kind = \"barh\", y = \"values\", ax = ax, color = \"tab:blue\")\n",
    "ax.set_ylabel(\"Neighbourhood Group\")\n",
    "ax.set_xlabel(\"Average Price of Renting an AirBnB per Day ($)\")\n",
    "plt.title(\"Average Price of AirBnB Per Grouped Neighbourhood / Borough\", fontsize = 16);"
   ]
  },
  {
   "cell_type": "markdown",
   "id": "15af3827",
   "metadata": {},
   "source": [
    "Grouping the prices by Neighbourhood Group and finding the average price of a listing in each borough, we can see that Manhatten has the highest prices out of the boroughs. This can be due to the fact that Manhatten is the most visited place in the city, thus many Airbnb listings would be made in that area from the inlow and outflow of turists regularly. We can see that The Bronx is the lowest in the chart with an average price of rent by Airbnb being 87.5 dollars compared to 177 dollars in Manhattan. This means that there are significant differences pricing levels seen between the borough groups in the data. The Bronx is considered to be Nyc lowest income borough which can explain why it is the lowest on the chart.Going forward, we would need to take into account for these differences seen in the clusters(Neighbourhood Groups)."
   ]
  },
  {
   "cell_type": "code",
   "execution_count": 210,
   "id": "fe17d065",
   "metadata": {},
   "outputs": [
    {
     "data": {
      "image/png": "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\n",
      "text/plain": [
       "<Figure size 800x550 with 1 Axes>"
      ]
     },
     "metadata": {},
     "output_type": "display_data"
    }
   ],
   "source": [
    "fig, ax = plt.subplots()\n",
    "# boxplot\n",
    "ax.set_title(\"Boxplot to Show Prices of the Types of Rooms on Airbnb\")\n",
    "sns.boxplot(data = final_df, x=\"room_type\", y=\"price\", ax=ax)\n",
    "ax.set_ylabel(\"Price of Renting an AirBnB per Day ($)\")\n",
    "\n",
    "plt.show()"
   ]
  },
  {
   "cell_type": "markdown",
   "id": "2dc1c8a1",
   "metadata": {},
   "source": [
    "From the Boxplot shown above, we get a sense on the problem of the large outliers seen in the price of renting an AirBnB per day. We can see that the rental price of entire homes or apartments is higher than that of private or shared rooms with a median opf approcimately 180 dollars. Comparing private room and shared room listings, we can see that the price for both categories are relatively the same with the median of shared room listings being lower by a bit. Going forward the large outliers should be addressed more indepthly before a regression analysis can be conducted."
   ]
  },
  {
   "cell_type": "code",
   "execution_count": 211,
   "id": "8c09b389",
   "metadata": {},
   "outputs": [
    {
     "data": {
      "image/png": "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
